{
 "cells": [
  {
   "cell_type": "code",
   "execution_count": 1,
   "metadata": {},
   "outputs": [
    {
     "name": "stdout",
     "output_type": "stream",
     "text": [
      "Requirement already satisfied: tensorflow==2.0.0-beta1 in c:\\users\\chain13\\anaconda3\\lib\\site-packages (2.0.0b1)\n",
      "Requirement already satisfied: six>=1.10.0 in c:\\users\\chain13\\anaconda3\\lib\\site-packages (from tensorflow==2.0.0-beta1) (1.12.0)\n",
      "Requirement already satisfied: grpcio>=1.8.6 in c:\\users\\chain13\\anaconda3\\lib\\site-packages (from tensorflow==2.0.0-beta1) (1.21.1)\n",
      "Requirement already satisfied: tf-estimator-nightly<1.14.0.dev2019060502,>=1.14.0.dev2019060501 in c:\\users\\chain13\\anaconda3\\lib\\site-packages (from tensorflow==2.0.0-beta1) (1.14.0.dev2019060501)\n",
      "Requirement already satisfied: keras-applications>=1.0.6 in c:\\users\\chain13\\anaconda3\\lib\\site-packages (from tensorflow==2.0.0-beta1) (1.0.8)\n",
      "Requirement already satisfied: wheel>=0.26 in c:\\users\\chain13\\anaconda3\\lib\\site-packages (from tensorflow==2.0.0-beta1) (0.33.4)\n",
      "Requirement already satisfied: protobuf>=3.6.1 in c:\\users\\chain13\\anaconda3\\lib\\site-packages (from tensorflow==2.0.0-beta1) (3.8.0)\n",
      "Requirement already satisfied: numpy<2.0,>=1.14.5 in c:\\users\\chain13\\anaconda3\\lib\\site-packages (from tensorflow==2.0.0-beta1) (1.16.4)\n",
      "Requirement already satisfied: astor>=0.6.0 in c:\\users\\chain13\\anaconda3\\lib\\site-packages (from tensorflow==2.0.0-beta1) (0.8.0)\n",
      "Requirement already satisfied: wrapt>=1.11.1 in c:\\users\\chain13\\anaconda3\\lib\\site-packages (from tensorflow==2.0.0-beta1) (1.11.1)\n",
      "Requirement already satisfied: google-pasta>=0.1.6 in c:\\users\\chain13\\anaconda3\\lib\\site-packages (from tensorflow==2.0.0-beta1) (0.1.7)\n",
      "Requirement already satisfied: termcolor>=1.1.0 in c:\\users\\chain13\\anaconda3\\lib\\site-packages (from tensorflow==2.0.0-beta1) (1.1.0)\n",
      "Requirement already satisfied: keras-preprocessing>=1.0.5 in c:\\users\\chain13\\anaconda3\\lib\\site-packages (from tensorflow==2.0.0-beta1) (1.1.0)\n",
      "Requirement already satisfied: gast>=0.2.0 in c:\\users\\chain13\\anaconda3\\lib\\site-packages (from tensorflow==2.0.0-beta1) (0.2.2)\n",
      "Requirement already satisfied: tb-nightly<1.14.0a20190604,>=1.14.0a20190603 in c:\\users\\chain13\\anaconda3\\lib\\site-packages (from tensorflow==2.0.0-beta1) (1.14.0a20190603)\n",
      "Requirement already satisfied: absl-py>=0.7.0 in c:\\users\\chain13\\anaconda3\\lib\\site-packages (from tensorflow==2.0.0-beta1) (0.7.1)\n",
      "Requirement already satisfied: h5py in c:\\users\\chain13\\anaconda3\\lib\\site-packages (from keras-applications>=1.0.6->tensorflow==2.0.0-beta1) (2.9.0)\n",
      "Requirement already satisfied: setuptools in c:\\users\\chain13\\anaconda3\\lib\\site-packages (from protobuf>=3.6.1->tensorflow==2.0.0-beta1) (41.0.1)\n",
      "Requirement already satisfied: werkzeug>=0.11.15 in c:\\users\\chain13\\anaconda3\\lib\\site-packages (from tb-nightly<1.14.0a20190604,>=1.14.0a20190603->tensorflow==2.0.0-beta1) (0.15.4)\n",
      "Requirement already satisfied: markdown>=2.6.8 in c:\\users\\chain13\\anaconda3\\lib\\site-packages (from tb-nightly<1.14.0a20190604,>=1.14.0a20190603->tensorflow==2.0.0-beta1) (3.1.1)\n"
     ]
    }
   ],
   "source": [
    "!pip install tensorflow==2.0.0-beta1\n"
   ]
  },
  {
   "cell_type": "code",
   "execution_count": 2,
   "metadata": {},
   "outputs": [
    {
     "name": "stdout",
     "output_type": "stream",
     "text": [
      "Requirement already satisfied: tensorflow_datasets in c:\\users\\chain13\\anaconda3\\lib\\site-packages (1.0.2)\n",
      "Requirement already satisfied: psutil in c:\\users\\chain13\\anaconda3\\lib\\site-packages (from tensorflow_datasets) (5.6.2)\n",
      "Requirement already satisfied: dill in c:\\users\\chain13\\anaconda3\\lib\\site-packages (from tensorflow_datasets) (0.3.0)\n",
      "Requirement already satisfied: absl-py in c:\\users\\chain13\\anaconda3\\lib\\site-packages (from tensorflow_datasets) (0.7.1)\n",
      "Requirement already satisfied: promise in c:\\users\\chain13\\anaconda3\\lib\\site-packages (from tensorflow_datasets) (2.2.1)\n",
      "Requirement already satisfied: tensorflow-metadata in c:\\users\\chain13\\anaconda3\\lib\\site-packages (from tensorflow_datasets) (0.13.0)\n",
      "Requirement already satisfied: termcolor in c:\\users\\chain13\\anaconda3\\lib\\site-packages (from tensorflow_datasets) (1.1.0)\n",
      "Requirement already satisfied: numpy in c:\\users\\chain13\\anaconda3\\lib\\site-packages (from tensorflow_datasets) (1.16.4)\n",
      "Requirement already satisfied: requests in c:\\users\\chain13\\anaconda3\\lib\\site-packages (from tensorflow_datasets) (2.22.0)\n",
      "Requirement already satisfied: wrapt in c:\\users\\chain13\\anaconda3\\lib\\site-packages (from tensorflow_datasets) (1.11.1)\n",
      "Requirement already satisfied: six in c:\\users\\chain13\\anaconda3\\lib\\site-packages (from tensorflow_datasets) (1.12.0)\n",
      "Requirement already satisfied: future in c:\\users\\chain13\\anaconda3\\lib\\site-packages (from tensorflow_datasets) (0.17.1)\n",
      "Requirement already satisfied: tqdm in c:\\users\\chain13\\anaconda3\\lib\\site-packages (from tensorflow_datasets) (4.32.1)\n",
      "Requirement already satisfied: protobuf>=3.6.1 in c:\\users\\chain13\\anaconda3\\lib\\site-packages (from tensorflow_datasets) (3.8.0)\n",
      "Requirement already satisfied: googleapis-common-protos in c:\\users\\chain13\\anaconda3\\lib\\site-packages (from tensorflow-metadata->tensorflow_datasets) (1.6.0)\n",
      "Requirement already satisfied: chardet<3.1.0,>=3.0.2 in c:\\users\\chain13\\anaconda3\\lib\\site-packages (from requests->tensorflow_datasets) (3.0.4)\n",
      "Requirement already satisfied: idna<2.9,>=2.5 in c:\\users\\chain13\\anaconda3\\lib\\site-packages (from requests->tensorflow_datasets) (2.8)\n",
      "Requirement already satisfied: certifi>=2017.4.17 in c:\\users\\chain13\\anaconda3\\lib\\site-packages (from requests->tensorflow_datasets) (2019.6.16)\n",
      "Requirement already satisfied: urllib3!=1.25.0,!=1.25.1,<1.26,>=1.21.1 in c:\\users\\chain13\\anaconda3\\lib\\site-packages (from requests->tensorflow_datasets) (1.24.2)\n",
      "Requirement already satisfied: setuptools in c:\\users\\chain13\\anaconda3\\lib\\site-packages (from protobuf>=3.6.1->tensorflow_datasets) (41.0.1)\n"
     ]
    }
   ],
   "source": [
    "!pip install tensorflow_datasets"
   ]
  },
  {
   "cell_type": "code",
   "execution_count": 3,
   "metadata": {},
   "outputs": [],
   "source": [
    "import matplotlib.pyplot as plt \n",
    "import tensorflow as tf\n",
    "import tensorflow_datasets as tfds\n",
    "import numpy as np"
   ]
  },
  {
   "cell_type": "code",
   "execution_count": 4,
   "metadata": {},
   "outputs": [
    {
     "data": {
      "text/plain": [
       "'2.0.0-beta1'"
      ]
     },
     "execution_count": 4,
     "metadata": {},
     "output_type": "execute_result"
    }
   ],
   "source": [
    "tf.__version__"
   ]
  },
  {
   "cell_type": "code",
   "execution_count": 5,
   "metadata": {},
   "outputs": [],
   "source": [
    "data_mnist = tfds.load(\"mnist\")"
   ]
  },
  {
   "cell_type": "code",
   "execution_count": 6,
   "metadata": {},
   "outputs": [
    {
     "data": {
      "text/plain": [
       "dict"
      ]
     },
     "execution_count": 6,
     "metadata": {},
     "output_type": "execute_result"
    }
   ],
   "source": [
    "type(data_mnist)"
   ]
  },
  {
   "cell_type": "code",
   "execution_count": 7,
   "metadata": {},
   "outputs": [
    {
     "data": {
      "text/plain": [
       "dict_keys(['test', 'train'])"
      ]
     },
     "execution_count": 7,
     "metadata": {},
     "output_type": "execute_result"
    }
   ],
   "source": [
    "data_mnist.keys()"
   ]
  },
  {
   "cell_type": "code",
   "execution_count": 8,
   "metadata": {},
   "outputs": [],
   "source": [
    "n = 1000\n",
    "\n",
    "it_test = iter(data_mnist['test'].batch(n))\n",
    "\n",
    "data_mnist_test = next(it_test)\n",
    "\n",
    "data_mnist_test['image'] = np.divide(data_mnist_test['image'],255)\n",
    "\n",
    "data_mnist_test['image'] = data_mnist_test['image'].reshape(n,28,28)\n",
    "\n",
    "it_train = iter(data_mnist['train'].batch(n))\n",
    "\n",
    "data_mnist_train = next(it_train)\n",
    "\n",
    "data_mnist_train['image'] = np.divide(data_mnist_train['image'],255)\n",
    "\n",
    "data_mnist_train['image'] = data_mnist_train['image'].reshape(n,28,28)\n"
   ]
  },
  {
   "cell_type": "code",
   "execution_count": 9,
   "metadata": {},
   "outputs": [
    {
     "data": {
      "text/plain": [
       "(1000, 28, 28)"
      ]
     },
     "execution_count": 9,
     "metadata": {},
     "output_type": "execute_result"
    }
   ],
   "source": [
    "data_mnist_test['image'].shape"
   ]
  },
  {
   "cell_type": "code",
   "execution_count": 10,
   "metadata": {},
   "outputs": [
    {
     "data": {
      "text/plain": [
       "<matplotlib.image.AxesImage at 0x1eb1b36b470>"
      ]
     },
     "execution_count": 10,
     "metadata": {},
     "output_type": "execute_result"
    },
    {
     "data": {
      "image/png": "[encoded data removed]",
      "text/plain": [
       "<Figure size 432x288 with 1 Axes>"
      ]
     },
     "metadata": {
      "needs_background": "light"
     },
     "output_type": "display_data"
    }
   ],
   "source": [
    "plt.title(f\"Label = {data_mnist_test['label'][0]}\")\n",
    "plt.imshow(data_mnist_test['image'][0],'gray')"
   ]
  },
  {
   "cell_type": "code",
   "execution_count": 11,
   "metadata": {},
   "outputs": [],
   "source": [
    "model = tf.keras.models.Sequential([\n",
    "    tf.keras.layers.Flatten(input_shape=(28, 28)),\n",
    "    tf.keras.layers.Dense(128, activation='relu'),\n",
    "    tf.keras.layers.Dropout(0.2),\n",
    "    tf.keras.layers.Dense(10, activation='softmax')\n",
    "])\n",
    "\n",
    "model.compile(optimizer='adam',\n",
    "              loss='sparse_categorical_crossentropy',\n",
    "              metrics=['accuracy'])"
   ]
  },
  {
   "cell_type": "code",
   "execution_count": 12,
   "metadata": {},
   "outputs": [
    {
     "name": "stderr",
     "output_type": "stream",
     "text": [
      "WARNING: Logging before flag parsing goes to stderr.\n",
      "W0703 04:30:57.518993 11832 deprecation.py:323] From C:\\Users\\CHAIN13\\Anaconda3\\lib\\site-packages\\tensorflow\\python\\ops\\math_grad.py:1250: add_dispatch_support.<locals>.wrapper (from tensorflow.python.ops.array_ops) is deprecated and will be removed in a future version.\n",
      "Instructions for updating:\n",
      "Use tf.where in 2.0, which has the same broadcast rule as np.where\n"
     ]
    },
    {
     "name": "stdout",
     "output_type": "stream",
     "text": [
      "Train on 1000 samples\n",
      "Epoch 1/5\n",
      "1000/1000 [==============================] - ETA: 41s - loss: 2.2972 - accuracy: 0.187 - ETA: 3s - loss: 2.0808 - accuracy: 0.333 - ETA: 0s - loss: 1.6577 - accuracy: 0.51 - 2s 2ms/sample - loss: 1.5771 - accuracy: 0.5470\n",
      "Epoch 2/5\n",
      "1000/1000 [==============================] - ETA: 0s - loss: 1.1721 - accuracy: 0.62 - ETA: 0s - loss: 0.7881 - accuracy: 0.78 - 0s 90us/sample - loss: 0.7245 - accuracy: 0.8060\n",
      "Epoch 3/5\n",
      "1000/1000 [==============================] - ETA: 0s - loss: 0.3250 - accuracy: 0.93 - ETA: 0s - loss: 0.4806 - accuracy: 0.86 - 0s 91us/sample - loss: 0.4953 - accuracy: 0.8660\n",
      "Epoch 4/5\n",
      "1000/1000 [==============================] - ETA: 0s - loss: 0.4057 - accuracy: 0.87 - ETA: 0s - loss: 0.3699 - accuracy: 0.91 - 0s 90us/sample - loss: 0.3690 - accuracy: 0.9020\n",
      "Epoch 5/5\n",
      "1000/1000 [==============================] - ETA: 0s - loss: 0.3807 - accuracy: 0.87 - ETA: 0s - loss: 0.3140 - accuracy: 0.92 - 0s 94us/sample - loss: 0.3022 - accuracy: 0.9350\n"
     ]
    },
    {
     "data": {
      "text/plain": [
       "<tensorflow.python.keras.callbacks.History at 0x1eb1b99a128>"
      ]
     },
     "execution_count": 12,
     "metadata": {},
     "output_type": "execute_result"
    }
   ],
   "source": [
    "model.fit(data_mnist_train[\"image\"], data_mnist_train[\"label\"], epochs=5)"
   ]
  },
  {
   "cell_type": "code",
   "execution_count": 13,
   "metadata": {},
   "outputs": [
    {
     "name": "stdout",
     "output_type": "stream",
     "text": [
      "1000/1000 [==============================] - ETA: 1s - loss: 0.4490 - accuracy: 0.87 - 0s 118us/sample - loss: 0.3974 - accuracy: 0.8960\n"
     ]
    },
    {
     "data": {
      "text/plain": [
       "[0.39744388628005983, 0.896]"
      ]
     },
     "execution_count": 13,
     "metadata": {},
     "output_type": "execute_result"
    }
   ],
   "source": [
    "model.evaluate(data_mnist_test['image'], data_mnist_test['label'])"
   ]
  },
  {
   "cell_type": "code",
   "execution_count": 14,
   "metadata": {},
   "outputs": [],
   "source": [
    "predict = model.predict(data_mnist_test['image'])"
   ]
  },
  {
   "cell_type": "code",
   "execution_count": 15,
   "metadata": {},
   "outputs": [
    {
     "data": {
      "text/plain": [
       "<matplotlib.image.AxesImage at 0x1eb1caa4ef0>"
      ]
     },
     "execution_count": 15,
     "metadata": {},
     "output_type": "execute_result"
    },
    {
     "data": {
      "image/png": "[encoded data removed]",
      "text/plain": [
       "<Figure size 432x288 with 1 Axes>"
      ]
     },
     "metadata": {
      "needs_background": "light"
     },
     "output_type": "display_data"
    }
   ],
   "source": [
    "plt.title(f\"Label = {data_mnist_test['label'][113]} Predict = {predict[113].argmax()}\")\n",
    "plt.imshow(data_mnist_test['image'][113],'gray')"
   ]
  },
  {
   "cell_type": "code",
   "execution_count": null,
   "metadata": {},
   "outputs": [],
   "source": []
  }
 ],
 "metadata": {
  "kernelspec": {
   "display_name": "TensorFlow-GPU",
   "language": "python",
   "name": "tf"
  },
  "language_info": {
   "codemirror_mode": {
    "name": "ipython",
    "version": 3
   },
   "file_extension": ".py",
   "mimetype": "text/x-python",
   "name": "python",
   "nbconvert_exporter": "python",
   "pygments_lexer": "ipython3",
   "version": "3.7.3"
  }
 },
 "nbformat": 4,
 "nbformat_minor": 2
}
